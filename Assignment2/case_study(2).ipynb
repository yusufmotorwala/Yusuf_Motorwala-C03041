{
 "cells": [
  {
   "cell_type": "code",
   "execution_count": 1,
   "metadata": {},
   "outputs": [
    {
     "name": "stdout",
     "output_type": "stream",
     "text": [
      "Hello world\n"
     ]
    }
   ],
   "source": [
    "print('Hello world')"
   ]
  },
  {
   "cell_type": "markdown",
   "metadata": {},
   "source": [
    "# Data Science"
   ]
  },
  {
   "cell_type": "markdown",
   "metadata": {},
   "source": [
    "### Pandas library is used for data analysis"
   ]
  },
  {
   "cell_type": "code",
   "execution_count": 2,
   "metadata": {},
   "outputs": [],
   "source": [
    "import pandas as pd"
   ]
  },
  {
   "cell_type": "code",
   "execution_count": 3,
   "metadata": {},
   "outputs": [
    {
     "data": {
      "text/plain": [
       "<module 'pandas' from '/srv/conda/envs/notebook/lib/python3.6/site-packages/pandas/__init__.py'>"
      ]
     },
     "execution_count": 3,
     "metadata": {},
     "output_type": "execute_result"
    }
   ],
   "source": [
    "pd"
   ]
  },
  {
   "cell_type": "code",
   "execution_count": 5,
   "metadata": {},
   "outputs": [],
   "source": [
    "data = pd.read_csv('student_info.csv')"
   ]
  },
  {
   "cell_type": "code",
   "execution_count": 6,
   "metadata": {},
   "outputs": [
    {
     "data": {
      "text/html": [
       "<div>\n",
       "<style scoped>\n",
       "    .dataframe tbody tr th:only-of-type {\n",
       "        vertical-align: middle;\n",
       "    }\n",
       "\n",
       "    .dataframe tbody tr th {\n",
       "        vertical-align: top;\n",
       "    }\n",
       "\n",
       "    .dataframe thead th {\n",
       "        text-align: right;\n",
       "    }\n",
       "</style>\n",
       "<table border=\"1\" class=\"dataframe\">\n",
       "  <thead>\n",
       "    <tr style=\"text-align: right;\">\n",
       "      <th></th>\n",
       "      <th>name</th>\n",
       "      <th>age</th>\n",
       "      <th>place</th>\n",
       "      <th>post</th>\n",
       "      <th>salary</th>\n",
       "    </tr>\n",
       "  </thead>\n",
       "  <tbody>\n",
       "    <tr>\n",
       "      <th>0</th>\n",
       "      <td>Ajay walsane</td>\n",
       "      <td>20</td>\n",
       "      <td>latur</td>\n",
       "      <td>HR</td>\n",
       "      <td>70000</td>\n",
       "    </tr>\n",
       "    <tr>\n",
       "      <th>1</th>\n",
       "      <td>Shraddha Lone</td>\n",
       "      <td>20</td>\n",
       "      <td>Pune</td>\n",
       "      <td>Software Engineer</td>\n",
       "      <td>75000</td>\n",
       "    </tr>\n",
       "    <tr>\n",
       "      <th>2</th>\n",
       "      <td>Arsalan shaikh</td>\n",
       "      <td>20</td>\n",
       "      <td>pune</td>\n",
       "      <td>Data Scientist</td>\n",
       "      <td>1000000</td>\n",
       "    </tr>\n",
       "    <tr>\n",
       "      <th>3</th>\n",
       "      <td>Arshad</td>\n",
       "      <td>19</td>\n",
       "      <td>Pune</td>\n",
       "      <td>Data Science</td>\n",
       "      <td>100000</td>\n",
       "    </tr>\n",
       "    <tr>\n",
       "      <th>4</th>\n",
       "      <td>Ajith</td>\n",
       "      <td>28</td>\n",
       "      <td>Thane</td>\n",
       "      <td>Engineer</td>\n",
       "      <td>55000</td>\n",
       "    </tr>\n",
       "    <tr>\n",
       "      <th>5</th>\n",
       "      <td>Sonu Dutta</td>\n",
       "      <td>22</td>\n",
       "      <td>Pune</td>\n",
       "      <td>Software Engineer</td>\n",
       "      <td>75000</td>\n",
       "    </tr>\n",
       "    <tr>\n",
       "      <th>6</th>\n",
       "      <td>Faizaan</td>\n",
       "      <td>20</td>\n",
       "      <td>Pune</td>\n",
       "      <td>Analyst</td>\n",
       "      <td>700000</td>\n",
       "    </tr>\n",
       "    <tr>\n",
       "      <th>7</th>\n",
       "      <td>Daniyal Faisal Satwilkar</td>\n",
       "      <td>19</td>\n",
       "      <td>Arathi</td>\n",
       "      <td>Developer</td>\n",
       "      <td>10000000</td>\n",
       "    </tr>\n",
       "    <tr>\n",
       "      <th>8</th>\n",
       "      <td>Ajit Shirtode</td>\n",
       "      <td>21</td>\n",
       "      <td>Akluj</td>\n",
       "      <td>Software Tester</td>\n",
       "      <td>50000</td>\n",
       "    </tr>\n",
       "    <tr>\n",
       "      <th>9</th>\n",
       "      <td>Manisha redekar</td>\n",
       "      <td>21</td>\n",
       "      <td>Bangalore</td>\n",
       "      <td>engineer</td>\n",
       "      <td>750000</td>\n",
       "    </tr>\n",
       "    <tr>\n",
       "      <th>10</th>\n",
       "      <td>Ajmal</td>\n",
       "      <td>21</td>\n",
       "      <td>pune</td>\n",
       "      <td>production eng</td>\n",
       "      <td>65000</td>\n",
       "    </tr>\n",
       "    <tr>\n",
       "      <th>11</th>\n",
       "      <td>Nikat khan</td>\n",
       "      <td>20</td>\n",
       "      <td>Pune</td>\n",
       "      <td>ML engineer</td>\n",
       "      <td>70000</td>\n",
       "    </tr>\n",
       "    <tr>\n",
       "      <th>12</th>\n",
       "      <td>Kush gadewar</td>\n",
       "      <td>20</td>\n",
       "      <td>pune</td>\n",
       "      <td>software Enginee</td>\n",
       "      <td>70000</td>\n",
       "    </tr>\n",
       "  </tbody>\n",
       "</table>\n",
       "</div>"
      ],
      "text/plain": [
       "                        name  age      place               post    salary\n",
       "0               Ajay walsane   20      latur                 HR     70000\n",
       "1              Shraddha Lone   20       Pune  Software Engineer     75000\n",
       "2             Arsalan shaikh   20       pune     Data Scientist   1000000\n",
       "3                     Arshad   19       Pune       Data Science    100000\n",
       "4                      Ajith   28      Thane           Engineer     55000\n",
       "5                 Sonu Dutta   22       Pune  Software Engineer     75000\n",
       "6                    Faizaan   20       Pune            Analyst    700000\n",
       "7   Daniyal Faisal Satwilkar   19     Arathi          Developer  10000000\n",
       "8              Ajit Shirtode   21      Akluj    Software Tester     50000\n",
       "9            Manisha redekar   21  Bangalore           engineer    750000\n",
       "10                     Ajmal   21       pune     production eng     65000\n",
       "11                Nikat khan   20       Pune        ML engineer     70000\n",
       "12              Kush gadewar   20       pune   software Enginee     70000"
      ]
     },
     "execution_count": 6,
     "metadata": {},
     "output_type": "execute_result"
    }
   ],
   "source": [
    "data"
   ]
  },
  {
   "cell_type": "markdown",
   "metadata": {},
   "source": [
    "## Generating a number of questions on ur dataset and trying to find out answers on it"
   ]
  },
  {
   "cell_type": "code",
   "execution_count": 15,
   "metadata": {},
   "outputs": [
    {
     "name": "stdout",
     "output_type": "stream",
     "text": [
      "Total number of rows present: 13\n",
      "Total number of columns present: 5\n"
     ]
    }
   ],
   "source": [
    "# How many records present\n",
    "print('Total number of rows present:',data.shape[0])\n",
    "print('Total number of columns present:',data.shape[1])"
   ]
  },
  {
   "cell_type": "code",
   "execution_count": 16,
   "metadata": {},
   "outputs": [
    {
     "data": {
      "text/plain": [
       "Index(['name', 'age', 'place', 'post', 'salary'], dtype='object')"
      ]
     },
     "execution_count": 16,
     "metadata": {},
     "output_type": "execute_result"
    }
   ],
   "source": [
    "#list out total columns present\n",
    "\n",
    "data.columns"
   ]
  },
  {
   "cell_type": "code",
   "execution_count": 18,
   "metadata": {},
   "outputs": [
    {
     "data": {
      "text/html": [
       "<div>\n",
       "<style scoped>\n",
       "    .dataframe tbody tr th:only-of-type {\n",
       "        vertical-align: middle;\n",
       "    }\n",
       "\n",
       "    .dataframe tbody tr th {\n",
       "        vertical-align: top;\n",
       "    }\n",
       "\n",
       "    .dataframe thead th {\n",
       "        text-align: right;\n",
       "    }\n",
       "</style>\n",
       "<table border=\"1\" class=\"dataframe\">\n",
       "  <thead>\n",
       "    <tr style=\"text-align: right;\">\n",
       "      <th></th>\n",
       "      <th>name</th>\n",
       "      <th>place</th>\n",
       "    </tr>\n",
       "  </thead>\n",
       "  <tbody>\n",
       "    <tr>\n",
       "      <th>0</th>\n",
       "      <td>Ajay walsane</td>\n",
       "      <td>latur</td>\n",
       "    </tr>\n",
       "    <tr>\n",
       "      <th>1</th>\n",
       "      <td>Shraddha Lone</td>\n",
       "      <td>Pune</td>\n",
       "    </tr>\n",
       "    <tr>\n",
       "      <th>2</th>\n",
       "      <td>Arsalan shaikh</td>\n",
       "      <td>pune</td>\n",
       "    </tr>\n",
       "    <tr>\n",
       "      <th>3</th>\n",
       "      <td>Arshad</td>\n",
       "      <td>Pune</td>\n",
       "    </tr>\n",
       "    <tr>\n",
       "      <th>4</th>\n",
       "      <td>Ajith</td>\n",
       "      <td>Thane</td>\n",
       "    </tr>\n",
       "    <tr>\n",
       "      <th>5</th>\n",
       "      <td>Sonu Dutta</td>\n",
       "      <td>Pune</td>\n",
       "    </tr>\n",
       "    <tr>\n",
       "      <th>6</th>\n",
       "      <td>Faizaan</td>\n",
       "      <td>Pune</td>\n",
       "    </tr>\n",
       "    <tr>\n",
       "      <th>7</th>\n",
       "      <td>Daniyal Faisal Satwilkar</td>\n",
       "      <td>Arathi</td>\n",
       "    </tr>\n",
       "    <tr>\n",
       "      <th>8</th>\n",
       "      <td>Ajit Shirtode</td>\n",
       "      <td>Akluj</td>\n",
       "    </tr>\n",
       "    <tr>\n",
       "      <th>9</th>\n",
       "      <td>Manisha redekar</td>\n",
       "      <td>Bangalore</td>\n",
       "    </tr>\n",
       "    <tr>\n",
       "      <th>10</th>\n",
       "      <td>Ajmal</td>\n",
       "      <td>pune</td>\n",
       "    </tr>\n",
       "    <tr>\n",
       "      <th>11</th>\n",
       "      <td>Nikat khan</td>\n",
       "      <td>Pune</td>\n",
       "    </tr>\n",
       "    <tr>\n",
       "      <th>12</th>\n",
       "      <td>Kush gadewar</td>\n",
       "      <td>pune</td>\n",
       "    </tr>\n",
       "  </tbody>\n",
       "</table>\n",
       "</div>"
      ],
      "text/plain": [
       "                        name      place\n",
       "0               Ajay walsane      latur\n",
       "1              Shraddha Lone       Pune\n",
       "2             Arsalan shaikh       pune\n",
       "3                     Arshad       Pune\n",
       "4                      Ajith      Thane\n",
       "5                 Sonu Dutta       Pune\n",
       "6                    Faizaan       Pune\n",
       "7   Daniyal Faisal Satwilkar     Arathi\n",
       "8              Ajit Shirtode      Akluj\n",
       "9            Manisha redekar  Bangalore\n",
       "10                     Ajmal       pune\n",
       "11                Nikat khan       Pune\n",
       "12              Kush gadewar       pune"
      ]
     },
     "execution_count": 18,
     "metadata": {},
     "output_type": "execute_result"
    }
   ],
   "source": [
    "#do the selection of 2 columns\n",
    "data[['name','place']]"
   ]
  },
  {
   "cell_type": "code",
   "execution_count": 19,
   "metadata": {},
   "outputs": [
    {
     "data": {
      "text/plain": [
       "0                 Ajay walsane\n",
       "1                Shraddha Lone\n",
       "2               Arsalan shaikh\n",
       "3                       Arshad\n",
       "4                        Ajith\n",
       "5                   Sonu Dutta\n",
       "6                      Faizaan\n",
       "7     Daniyal Faisal Satwilkar\n",
       "8                Ajit Shirtode\n",
       "9              Manisha redekar\n",
       "10                       Ajmal\n",
       "11                  Nikat khan\n",
       "12                Kush gadewar\n",
       "Name: name, dtype: object"
      ]
     },
     "execution_count": 19,
     "metadata": {},
     "output_type": "execute_result"
    }
   ],
   "source": [
    "# select one column\n",
    "data.name"
   ]
  },
  {
   "cell_type": "code",
   "execution_count": 22,
   "metadata": {},
   "outputs": [
    {
     "data": {
      "text/html": [
       "<div>\n",
       "<style scoped>\n",
       "    .dataframe tbody tr th:only-of-type {\n",
       "        vertical-align: middle;\n",
       "    }\n",
       "\n",
       "    .dataframe tbody tr th {\n",
       "        vertical-align: top;\n",
       "    }\n",
       "\n",
       "    .dataframe thead th {\n",
       "        text-align: right;\n",
       "    }\n",
       "</style>\n",
       "<table border=\"1\" class=\"dataframe\">\n",
       "  <thead>\n",
       "    <tr style=\"text-align: right;\">\n",
       "      <th></th>\n",
       "      <th>name</th>\n",
       "      <th>age</th>\n",
       "      <th>place</th>\n",
       "      <th>post</th>\n",
       "      <th>salary</th>\n",
       "    </tr>\n",
       "  </thead>\n",
       "  <tbody>\n",
       "    <tr>\n",
       "      <th>0</th>\n",
       "      <td>Ajay walsane</td>\n",
       "      <td>20</td>\n",
       "      <td>latur</td>\n",
       "      <td>HR</td>\n",
       "      <td>70000</td>\n",
       "    </tr>\n",
       "    <tr>\n",
       "      <th>2</th>\n",
       "      <td>Arsalan shaikh</td>\n",
       "      <td>20</td>\n",
       "      <td>pune</td>\n",
       "      <td>Data Scientist</td>\n",
       "      <td>1000000</td>\n",
       "    </tr>\n",
       "    <tr>\n",
       "      <th>3</th>\n",
       "      <td>Arshad</td>\n",
       "      <td>19</td>\n",
       "      <td>Pune</td>\n",
       "      <td>Data Science</td>\n",
       "      <td>100000</td>\n",
       "    </tr>\n",
       "    <tr>\n",
       "      <th>4</th>\n",
       "      <td>Ajith</td>\n",
       "      <td>28</td>\n",
       "      <td>Thane</td>\n",
       "      <td>Engineer</td>\n",
       "      <td>55000</td>\n",
       "    </tr>\n",
       "    <tr>\n",
       "      <th>8</th>\n",
       "      <td>Ajit Shirtode</td>\n",
       "      <td>21</td>\n",
       "      <td>Akluj</td>\n",
       "      <td>Software Tester</td>\n",
       "      <td>50000</td>\n",
       "    </tr>\n",
       "    <tr>\n",
       "      <th>10</th>\n",
       "      <td>Ajmal</td>\n",
       "      <td>21</td>\n",
       "      <td>pune</td>\n",
       "      <td>production eng</td>\n",
       "      <td>65000</td>\n",
       "    </tr>\n",
       "  </tbody>\n",
       "</table>\n",
       "</div>"
      ],
      "text/plain": [
       "              name  age  place             post   salary\n",
       "0     Ajay walsane   20  latur               HR    70000\n",
       "2   Arsalan shaikh   20   pune   Data Scientist  1000000\n",
       "3           Arshad   19   Pune     Data Science   100000\n",
       "4            Ajith   28  Thane         Engineer    55000\n",
       "8    Ajit Shirtode   21  Akluj  Software Tester    50000\n",
       "10           Ajmal   21   pune   production eng    65000"
      ]
     },
     "execution_count": 22,
     "metadata": {},
     "output_type": "execute_result"
    }
   ],
   "source": [
    "# find the record whose name startswith A\n",
    "data[data.name.str.startswith('A')]"
   ]
  },
  {
   "cell_type": "code",
   "execution_count": 26,
   "metadata": {},
   "outputs": [],
   "source": [
    "a = data[:5]"
   ]
  },
  {
   "cell_type": "code",
   "execution_count": 27,
   "metadata": {},
   "outputs": [
    {
     "data": {
      "text/html": [
       "<div>\n",
       "<style scoped>\n",
       "    .dataframe tbody tr th:only-of-type {\n",
       "        vertical-align: middle;\n",
       "    }\n",
       "\n",
       "    .dataframe tbody tr th {\n",
       "        vertical-align: top;\n",
       "    }\n",
       "\n",
       "    .dataframe thead th {\n",
       "        text-align: right;\n",
       "    }\n",
       "</style>\n",
       "<table border=\"1\" class=\"dataframe\">\n",
       "  <thead>\n",
       "    <tr style=\"text-align: right;\">\n",
       "      <th></th>\n",
       "      <th>name</th>\n",
       "      <th>age</th>\n",
       "      <th>place</th>\n",
       "      <th>post</th>\n",
       "      <th>salary</th>\n",
       "    </tr>\n",
       "  </thead>\n",
       "  <tbody>\n",
       "    <tr>\n",
       "      <th>0</th>\n",
       "      <td>Ajay walsane</td>\n",
       "      <td>20</td>\n",
       "      <td>latur</td>\n",
       "      <td>HR</td>\n",
       "      <td>70000</td>\n",
       "    </tr>\n",
       "    <tr>\n",
       "      <th>1</th>\n",
       "      <td>Shraddha Lone</td>\n",
       "      <td>20</td>\n",
       "      <td>Pune</td>\n",
       "      <td>Software Engineer</td>\n",
       "      <td>75000</td>\n",
       "    </tr>\n",
       "    <tr>\n",
       "      <th>2</th>\n",
       "      <td>Arsalan shaikh</td>\n",
       "      <td>20</td>\n",
       "      <td>pune</td>\n",
       "      <td>Data Scientist</td>\n",
       "      <td>1000000</td>\n",
       "    </tr>\n",
       "    <tr>\n",
       "      <th>3</th>\n",
       "      <td>Arshad</td>\n",
       "      <td>19</td>\n",
       "      <td>Pune</td>\n",
       "      <td>Data Science</td>\n",
       "      <td>100000</td>\n",
       "    </tr>\n",
       "    <tr>\n",
       "      <th>4</th>\n",
       "      <td>Ajith</td>\n",
       "      <td>28</td>\n",
       "      <td>Thane</td>\n",
       "      <td>Engineer</td>\n",
       "      <td>55000</td>\n",
       "    </tr>\n",
       "  </tbody>\n",
       "</table>\n",
       "</div>"
      ],
      "text/plain": [
       "             name  age  place               post   salary\n",
       "0    Ajay walsane   20  latur                 HR    70000\n",
       "1   Shraddha Lone   20   Pune  Software Engineer    75000\n",
       "2  Arsalan shaikh   20   pune     Data Scientist  1000000\n",
       "3          Arshad   19   Pune       Data Science   100000\n",
       "4           Ajith   28  Thane           Engineer    55000"
      ]
     },
     "execution_count": 27,
     "metadata": {},
     "output_type": "execute_result"
    }
   ],
   "source": [
    "a"
   ]
  },
  {
   "cell_type": "code",
   "execution_count": null,
   "metadata": {},
   "outputs": [],
   "source": [
    "# on x axis i need name\n",
    "# on y axis i need salary"
   ]
  },
  {
   "cell_type": "code",
   "execution_count": 28,
   "metadata": {},
   "outputs": [],
   "source": [
    "import matplotlib.pyplot as plt"
   ]
  },
  {
   "cell_type": "code",
   "execution_count": 31,
   "metadata": {},
   "outputs": [
    {
     "data": {
      "text/plain": [
       "([0, 1, 2, 3, 4],\n",
       " [Text(0, 0, ''),\n",
       "  Text(0, 0, ''),\n",
       "  Text(0, 0, ''),\n",
       "  Text(0, 0, ''),\n",
       "  Text(0, 0, '')])"
      ]
     },
     "execution_count": 31,
     "metadata": {},
     "output_type": "execute_result"
    },
    {
     "data": {
      "image/png": "[encoded data removed]",
      "text/plain": [
       "<Figure size 432x288 with 1 Axes>"
      ]
     },
     "metadata": {
      "needs_background": "light"
     },
     "output_type": "display_data"
    }
   ],
   "source": [
    "plt.bar(a.name,a.salary)\n",
    "plt.xticks(rotation=90)"
   ]
  },
  {
   "cell_type": "code",
   "execution_count": 30,
   "metadata": {},
   "outputs": [
    {
     "data": {
      "text/html": [
       "<div>\n",
       "<style scoped>\n",
       "    .dataframe tbody tr th:only-of-type {\n",
       "        vertical-align: middle;\n",
       "    }\n",
       "\n",
       "    .dataframe tbody tr th {\n",
       "        vertical-align: top;\n",
       "    }\n",
       "\n",
       "    .dataframe thead th {\n",
       "        text-align: right;\n",
       "    }\n",
       "</style>\n",
       "<table border=\"1\" class=\"dataframe\">\n",
       "  <thead>\n",
       "    <tr style=\"text-align: right;\">\n",
       "      <th></th>\n",
       "      <th>name</th>\n",
       "      <th>age</th>\n",
       "      <th>place</th>\n",
       "      <th>post</th>\n",
       "      <th>salary</th>\n",
       "    </tr>\n",
       "  </thead>\n",
       "  <tbody>\n",
       "    <tr>\n",
       "      <th>0</th>\n",
       "      <td>Ajay walsane</td>\n",
       "      <td>20</td>\n",
       "      <td>latur</td>\n",
       "      <td>HR</td>\n",
       "      <td>70000</td>\n",
       "    </tr>\n",
       "    <tr>\n",
       "      <th>1</th>\n",
       "      <td>Shraddha Lone</td>\n",
       "      <td>20</td>\n",
       "      <td>Pune</td>\n",
       "      <td>Software Engineer</td>\n",
       "      <td>75000</td>\n",
       "    </tr>\n",
       "    <tr>\n",
       "      <th>2</th>\n",
       "      <td>Arsalan shaikh</td>\n",
       "      <td>20</td>\n",
       "      <td>pune</td>\n",
       "      <td>Data Scientist</td>\n",
       "      <td>1000000</td>\n",
       "    </tr>\n",
       "    <tr>\n",
       "      <th>3</th>\n",
       "      <td>Arshad</td>\n",
       "      <td>19</td>\n",
       "      <td>Pune</td>\n",
       "      <td>Data Science</td>\n",
       "      <td>100000</td>\n",
       "    </tr>\n",
       "    <tr>\n",
       "      <th>4</th>\n",
       "      <td>Ajith</td>\n",
       "      <td>28</td>\n",
       "      <td>Thane</td>\n",
       "      <td>Engineer</td>\n",
       "      <td>55000</td>\n",
       "    </tr>\n",
       "  </tbody>\n",
       "</table>\n",
       "</div>"
      ],
      "text/plain": [
       "             name  age  place               post   salary\n",
       "0    Ajay walsane   20  latur                 HR    70000\n",
       "1   Shraddha Lone   20   Pune  Software Engineer    75000\n",
       "2  Arsalan shaikh   20   pune     Data Scientist  1000000\n",
       "3          Arshad   19   Pune       Data Science   100000\n",
       "4           Ajith   28  Thane           Engineer    55000"
      ]
     },
     "execution_count": 30,
     "metadata": {},
     "output_type": "execute_result"
    }
   ],
   "source": [
    "a"
   ]
  },
  {
   "cell_type": "code",
   "execution_count": null,
   "metadata": {},
   "outputs": [],
   "source": [
    "# in current session 34 people\n",
    "# male = 10\n",
    "# female = 24\n"
   ]
  },
  {
   "cell_type": "code",
   "execution_count": 34,
   "metadata": {},
   "outputs": [
    {
     "data": {
      "text/plain": [
       "Male      10\n",
       "Female    24\n",
       "dtype: int64"
      ]
     },
     "execution_count": 34,
     "metadata": {},
     "output_type": "execute_result"
    }
   ],
   "source": [
    "gender = pd.Series([10,24],index=['Male','Female'])\n",
    "gender"
   ]
  },
  {
   "cell_type": "markdown",
   "metadata": {},
   "source": [
    "# Pie plot"
   ]
  },
  {
   "cell_type": "code",
   "execution_count": 39,
   "metadata": {},
   "outputs": [
    {
     "data": {
      "image/png": "[encoded data removed]",
      "text/plain": [
       "<Figure size 432x288 with 1 Axes>"
      ]
     },
     "metadata": {},
     "output_type": "display_data"
    }
   ],
   "source": [
    "plt.pie(gender,labels=['Male','Female'],colors=['y','g'], autopct= '%.f%%')\n",
    "plt.show()"
   ]
  },
  {
   "cell_type": "code",
   "execution_count": 40,
   "metadata": {},
   "outputs": [
    {
     "data": {
      "text/plain": [
       "Male      10\n",
       "Female    24\n",
       "dtype: int64"
      ]
     },
     "execution_count": 40,
     "metadata": {},
     "output_type": "execute_result"
    }
   ],
   "source": [
    "gender"
   ]
  },
  {
   "cell_type": "code",
   "execution_count": 42,
   "metadata": {},
   "outputs": [
    {
     "data": {
      "text/plain": [
       "<AxesSubplot:>"
      ]
     },
     "execution_count": 42,
     "metadata": {},
     "output_type": "execute_result"
    },
    {
     "data": {
      "image/png": "[encoded data removed]",
      "text/plain": [
       "<Figure size 432x288 with 1 Axes>"
      ]
     },
     "metadata": {
      "needs_background": "light"
     },
     "output_type": "display_data"
    }
   ],
   "source": [
    "gender.plot(kind='barh')"
   ]
  },
  {
   "cell_type": "code",
   "execution_count": 46,
   "metadata": {
    "scrolled": true
   },
   "outputs": [
    {
     "data": {
      "text/plain": [
       "pune         8\n",
       "thane        1\n",
       "bangalore    1\n",
       "arathi       1\n",
       "akluj        1\n",
       "latur        1\n",
       "Name: place, dtype: int64"
      ]
     },
     "execution_count": 46,
     "metadata": {},
     "output_type": "execute_result"
    }
   ],
   "source": [
    "# placewise count\n",
    "data.place.str.lower().value_counts()"
   ]
  },
  {
   "cell_type": "code",
   "execution_count": 54,
   "metadata": {},
   "outputs": [
    {
     "data": {
      "text/plain": [
       "name      object\n",
       "age        int64\n",
       "place     object\n",
       "post      object\n",
       "salary     int64\n",
       "dtype: object"
      ]
     },
     "execution_count": 54,
     "metadata": {},
     "output_type": "execute_result"
    }
   ],
   "source": [
    "data.dtypes"
   ]
  },
  {
   "cell_type": "code",
   "execution_count": 47,
   "metadata": {},
   "outputs": [
    {
     "data": {
      "text/html": [
       "<div>\n",
       "<style scoped>\n",
       "    .dataframe tbody tr th:only-of-type {\n",
       "        vertical-align: middle;\n",
       "    }\n",
       "\n",
       "    .dataframe tbody tr th {\n",
       "        vertical-align: top;\n",
       "    }\n",
       "\n",
       "    .dataframe thead th {\n",
       "        text-align: right;\n",
       "    }\n",
       "</style>\n",
       "<table border=\"1\" class=\"dataframe\">\n",
       "  <thead>\n",
       "    <tr style=\"text-align: right;\">\n",
       "      <th></th>\n",
       "      <th>name</th>\n",
       "      <th>age</th>\n",
       "      <th>place</th>\n",
       "      <th>post</th>\n",
       "      <th>salary</th>\n",
       "    </tr>\n",
       "  </thead>\n",
       "  <tbody>\n",
       "    <tr>\n",
       "      <th>12</th>\n",
       "      <td>Kush gadewar</td>\n",
       "      <td>20</td>\n",
       "      <td>pune</td>\n",
       "      <td>software Enginee</td>\n",
       "      <td>70000</td>\n",
       "    </tr>\n",
       "  </tbody>\n",
       "</table>\n",
       "</div>"
      ],
      "text/plain": [
       "            name  age place              post  salary\n",
       "12  Kush gadewar   20  pune  software Enginee   70000"
      ]
     },
     "execution_count": 47,
     "metadata": {},
     "output_type": "execute_result"
    }
   ],
   "source": [
    "# last entry from dataset\n",
    "data.tail(1)"
   ]
  },
  {
   "cell_type": "code",
   "execution_count": 48,
   "metadata": {},
   "outputs": [
    {
     "data": {
      "text/html": [
       "<div>\n",
       "<style scoped>\n",
       "    .dataframe tbody tr th:only-of-type {\n",
       "        vertical-align: middle;\n",
       "    }\n",
       "\n",
       "    .dataframe tbody tr th {\n",
       "        vertical-align: top;\n",
       "    }\n",
       "\n",
       "    .dataframe thead th {\n",
       "        text-align: right;\n",
       "    }\n",
       "</style>\n",
       "<table border=\"1\" class=\"dataframe\">\n",
       "  <thead>\n",
       "    <tr style=\"text-align: right;\">\n",
       "      <th></th>\n",
       "      <th>name</th>\n",
       "      <th>age</th>\n",
       "      <th>place</th>\n",
       "      <th>post</th>\n",
       "      <th>salary</th>\n",
       "    </tr>\n",
       "  </thead>\n",
       "  <tbody>\n",
       "    <tr>\n",
       "      <th>0</th>\n",
       "      <td>Ajay walsane</td>\n",
       "      <td>20</td>\n",
       "      <td>latur</td>\n",
       "      <td>HR</td>\n",
       "      <td>70000</td>\n",
       "    </tr>\n",
       "    <tr>\n",
       "      <th>1</th>\n",
       "      <td>Shraddha Lone</td>\n",
       "      <td>20</td>\n",
       "      <td>Pune</td>\n",
       "      <td>Software Engineer</td>\n",
       "      <td>75000</td>\n",
       "    </tr>\n",
       "    <tr>\n",
       "      <th>2</th>\n",
       "      <td>Arsalan shaikh</td>\n",
       "      <td>20</td>\n",
       "      <td>pune</td>\n",
       "      <td>Data Scientist</td>\n",
       "      <td>1000000</td>\n",
       "    </tr>\n",
       "    <tr>\n",
       "      <th>3</th>\n",
       "      <td>Arshad</td>\n",
       "      <td>19</td>\n",
       "      <td>Pune</td>\n",
       "      <td>Data Science</td>\n",
       "      <td>100000</td>\n",
       "    </tr>\n",
       "    <tr>\n",
       "      <th>4</th>\n",
       "      <td>Ajith</td>\n",
       "      <td>28</td>\n",
       "      <td>Thane</td>\n",
       "      <td>Engineer</td>\n",
       "      <td>55000</td>\n",
       "    </tr>\n",
       "    <tr>\n",
       "      <th>5</th>\n",
       "      <td>Sonu Dutta</td>\n",
       "      <td>22</td>\n",
       "      <td>Pune</td>\n",
       "      <td>Software Engineer</td>\n",
       "      <td>75000</td>\n",
       "    </tr>\n",
       "    <tr>\n",
       "      <th>6</th>\n",
       "      <td>Faizaan</td>\n",
       "      <td>20</td>\n",
       "      <td>Pune</td>\n",
       "      <td>Analyst</td>\n",
       "      <td>700000</td>\n",
       "    </tr>\n",
       "    <tr>\n",
       "      <th>7</th>\n",
       "      <td>Daniyal Faisal Satwilkar</td>\n",
       "      <td>19</td>\n",
       "      <td>Arathi</td>\n",
       "      <td>Developer</td>\n",
       "      <td>10000000</td>\n",
       "    </tr>\n",
       "    <tr>\n",
       "      <th>8</th>\n",
       "      <td>Ajit Shirtode</td>\n",
       "      <td>21</td>\n",
       "      <td>Akluj</td>\n",
       "      <td>Software Tester</td>\n",
       "      <td>50000</td>\n",
       "    </tr>\n",
       "    <tr>\n",
       "      <th>9</th>\n",
       "      <td>Manisha redekar</td>\n",
       "      <td>21</td>\n",
       "      <td>Bangalore</td>\n",
       "      <td>engineer</td>\n",
       "      <td>750000</td>\n",
       "    </tr>\n",
       "    <tr>\n",
       "      <th>10</th>\n",
       "      <td>Ajmal</td>\n",
       "      <td>21</td>\n",
       "      <td>pune</td>\n",
       "      <td>production eng</td>\n",
       "      <td>65000</td>\n",
       "    </tr>\n",
       "    <tr>\n",
       "      <th>11</th>\n",
       "      <td>Nikat khan</td>\n",
       "      <td>20</td>\n",
       "      <td>Pune</td>\n",
       "      <td>ML engineer</td>\n",
       "      <td>70000</td>\n",
       "    </tr>\n",
       "    <tr>\n",
       "      <th>12</th>\n",
       "      <td>Kush gadewar</td>\n",
       "      <td>20</td>\n",
       "      <td>pune</td>\n",
       "      <td>software Enginee</td>\n",
       "      <td>70000</td>\n",
       "    </tr>\n",
       "  </tbody>\n",
       "</table>\n",
       "</div>"
      ],
      "text/plain": [
       "                        name  age      place               post    salary\n",
       "0               Ajay walsane   20      latur                 HR     70000\n",
       "1              Shraddha Lone   20       Pune  Software Engineer     75000\n",
       "2             Arsalan shaikh   20       pune     Data Scientist   1000000\n",
       "3                     Arshad   19       Pune       Data Science    100000\n",
       "4                      Ajith   28      Thane           Engineer     55000\n",
       "5                 Sonu Dutta   22       Pune  Software Engineer     75000\n",
       "6                    Faizaan   20       Pune            Analyst    700000\n",
       "7   Daniyal Faisal Satwilkar   19     Arathi          Developer  10000000\n",
       "8              Ajit Shirtode   21      Akluj    Software Tester     50000\n",
       "9            Manisha redekar   21  Bangalore           engineer    750000\n",
       "10                     Ajmal   21       pune     production eng     65000\n",
       "11                Nikat khan   20       Pune        ML engineer     70000\n",
       "12              Kush gadewar   20       pune   software Enginee     70000"
      ]
     },
     "execution_count": 48,
     "metadata": {},
     "output_type": "execute_result"
    }
   ],
   "source": [
    "data"
   ]
  },
  {
   "cell_type": "code",
   "execution_count": 50,
   "metadata": {},
   "outputs": [
    {
     "data": {
      "text/html": [
       "<div>\n",
       "<style scoped>\n",
       "    .dataframe tbody tr th:only-of-type {\n",
       "        vertical-align: middle;\n",
       "    }\n",
       "\n",
       "    .dataframe tbody tr th {\n",
       "        vertical-align: top;\n",
       "    }\n",
       "\n",
       "    .dataframe thead th {\n",
       "        text-align: right;\n",
       "    }\n",
       "</style>\n",
       "<table border=\"1\" class=\"dataframe\">\n",
       "  <thead>\n",
       "    <tr style=\"text-align: right;\">\n",
       "      <th></th>\n",
       "      <th>name</th>\n",
       "      <th>salary</th>\n",
       "    </tr>\n",
       "  </thead>\n",
       "  <tbody>\n",
       "    <tr>\n",
       "      <th>12</th>\n",
       "      <td>Kush gadewar</td>\n",
       "      <td>70000</td>\n",
       "    </tr>\n",
       "  </tbody>\n",
       "</table>\n",
       "</div>"
      ],
      "text/plain": [
       "            name  salary\n",
       "12  Kush gadewar   70000"
      ]
     },
     "execution_count": 50,
     "metadata": {},
     "output_type": "execute_result"
    }
   ],
   "source": [
    "data.tail(1)[['name','salary']]"
   ]
  },
  {
   "cell_type": "code",
   "execution_count": 51,
   "metadata": {},
   "outputs": [
    {
     "data": {
      "text/html": [
       "<div>\n",
       "<style scoped>\n",
       "    .dataframe tbody tr th:only-of-type {\n",
       "        vertical-align: middle;\n",
       "    }\n",
       "\n",
       "    .dataframe tbody tr th {\n",
       "        vertical-align: top;\n",
       "    }\n",
       "\n",
       "    .dataframe thead th {\n",
       "        text-align: right;\n",
       "    }\n",
       "</style>\n",
       "<table border=\"1\" class=\"dataframe\">\n",
       "  <thead>\n",
       "    <tr style=\"text-align: right;\">\n",
       "      <th></th>\n",
       "      <th>name</th>\n",
       "      <th>age</th>\n",
       "      <th>place</th>\n",
       "      <th>post</th>\n",
       "      <th>salary</th>\n",
       "    </tr>\n",
       "  </thead>\n",
       "  <tbody>\n",
       "    <tr>\n",
       "      <th>0</th>\n",
       "      <td>Ajay walsane</td>\n",
       "      <td>20</td>\n",
       "      <td>latur</td>\n",
       "      <td>HR</td>\n",
       "      <td>70000</td>\n",
       "    </tr>\n",
       "    <tr>\n",
       "      <th>1</th>\n",
       "      <td>Shraddha Lone</td>\n",
       "      <td>20</td>\n",
       "      <td>Pune</td>\n",
       "      <td>Software Engineer</td>\n",
       "      <td>75000</td>\n",
       "    </tr>\n",
       "    <tr>\n",
       "      <th>2</th>\n",
       "      <td>Arsalan shaikh</td>\n",
       "      <td>20</td>\n",
       "      <td>pune</td>\n",
       "      <td>Data Scientist</td>\n",
       "      <td>1000000</td>\n",
       "    </tr>\n",
       "    <tr>\n",
       "      <th>3</th>\n",
       "      <td>Arshad</td>\n",
       "      <td>19</td>\n",
       "      <td>Pune</td>\n",
       "      <td>Data Science</td>\n",
       "      <td>100000</td>\n",
       "    </tr>\n",
       "    <tr>\n",
       "      <th>4</th>\n",
       "      <td>Ajith</td>\n",
       "      <td>28</td>\n",
       "      <td>Thane</td>\n",
       "      <td>Engineer</td>\n",
       "      <td>55000</td>\n",
       "    </tr>\n",
       "    <tr>\n",
       "      <th>5</th>\n",
       "      <td>Sonu Dutta</td>\n",
       "      <td>22</td>\n",
       "      <td>Pune</td>\n",
       "      <td>Software Engineer</td>\n",
       "      <td>75000</td>\n",
       "    </tr>\n",
       "    <tr>\n",
       "      <th>6</th>\n",
       "      <td>Faizaan</td>\n",
       "      <td>20</td>\n",
       "      <td>Pune</td>\n",
       "      <td>Analyst</td>\n",
       "      <td>700000</td>\n",
       "    </tr>\n",
       "    <tr>\n",
       "      <th>7</th>\n",
       "      <td>Daniyal Faisal Satwilkar</td>\n",
       "      <td>19</td>\n",
       "      <td>Arathi</td>\n",
       "      <td>Developer</td>\n",
       "      <td>10000000</td>\n",
       "    </tr>\n",
       "    <tr>\n",
       "      <th>8</th>\n",
       "      <td>Ajit Shirtode</td>\n",
       "      <td>21</td>\n",
       "      <td>Akluj</td>\n",
       "      <td>Software Tester</td>\n",
       "      <td>50000</td>\n",
       "    </tr>\n",
       "    <tr>\n",
       "      <th>9</th>\n",
       "      <td>Manisha redekar</td>\n",
       "      <td>21</td>\n",
       "      <td>Bangalore</td>\n",
       "      <td>engineer</td>\n",
       "      <td>750000</td>\n",
       "    </tr>\n",
       "    <tr>\n",
       "      <th>10</th>\n",
       "      <td>Ajmal</td>\n",
       "      <td>21</td>\n",
       "      <td>pune</td>\n",
       "      <td>production eng</td>\n",
       "      <td>65000</td>\n",
       "    </tr>\n",
       "    <tr>\n",
       "      <th>11</th>\n",
       "      <td>Nikat khan</td>\n",
       "      <td>20</td>\n",
       "      <td>Pune</td>\n",
       "      <td>ML engineer</td>\n",
       "      <td>70000</td>\n",
       "    </tr>\n",
       "    <tr>\n",
       "      <th>12</th>\n",
       "      <td>Kush gadewar</td>\n",
       "      <td>20</td>\n",
       "      <td>pune</td>\n",
       "      <td>software Enginee</td>\n",
       "      <td>70000</td>\n",
       "    </tr>\n",
       "  </tbody>\n",
       "</table>\n",
       "</div>"
      ],
      "text/plain": [
       "                        name  age      place               post    salary\n",
       "0               Ajay walsane   20      latur                 HR     70000\n",
       "1              Shraddha Lone   20       Pune  Software Engineer     75000\n",
       "2             Arsalan shaikh   20       pune     Data Scientist   1000000\n",
       "3                     Arshad   19       Pune       Data Science    100000\n",
       "4                      Ajith   28      Thane           Engineer     55000\n",
       "5                 Sonu Dutta   22       Pune  Software Engineer     75000\n",
       "6                    Faizaan   20       Pune            Analyst    700000\n",
       "7   Daniyal Faisal Satwilkar   19     Arathi          Developer  10000000\n",
       "8              Ajit Shirtode   21      Akluj    Software Tester     50000\n",
       "9            Manisha redekar   21  Bangalore           engineer    750000\n",
       "10                     Ajmal   21       pune     production eng     65000\n",
       "11                Nikat khan   20       Pune        ML engineer     70000\n",
       "12              Kush gadewar   20       pune   software Enginee     70000"
      ]
     },
     "execution_count": 51,
     "metadata": {},
     "output_type": "execute_result"
    }
   ],
   "source": [
    "data"
   ]
  },
  {
   "cell_type": "markdown",
   "metadata": {},
   "source": [
    "# Load data from Github"
   ]
  },
  {
   "cell_type": "code",
   "execution_count": 57,
   "metadata": {},
   "outputs": [
    {
     "data": {
      "text/html": [
       "<div>\n",
       "<style scoped>\n",
       "    .dataframe tbody tr th:only-of-type {\n",
       "        vertical-align: middle;\n",
       "    }\n",
       "\n",
       "    .dataframe tbody tr th {\n",
       "        vertical-align: top;\n",
       "    }\n",
       "\n",
       "    .dataframe thead th {\n",
       "        text-align: right;\n",
       "    }\n",
       "</style>\n",
       "<table border=\"1\" class=\"dataframe\">\n",
       "  <thead>\n",
       "    <tr style=\"text-align: right;\">\n",
       "      <th></th>\n",
       "      <th>Unnamed: 0</th>\n",
       "      <th>NAME</th>\n",
       "      <th>r ankle_X</th>\n",
       "      <th>r ankle_Y</th>\n",
       "      <th>r knee_X</th>\n",
       "      <th>r knee_Y</th>\n",
       "      <th>r hip_X</th>\n",
       "      <th>r hip_Y</th>\n",
       "      <th>l hip_X</th>\n",
       "      <th>l hip_Y</th>\n",
       "      <th>...</th>\n",
       "      <th>r shoulder_Y</th>\n",
       "      <th>l shoulder_X</th>\n",
       "      <th>l shoulder_Y</th>\n",
       "      <th>l elbow_X</th>\n",
       "      <th>l elbow_Y</th>\n",
       "      <th>l wrist_X</th>\n",
       "      <th>l wrist_Y</th>\n",
       "      <th>Scale</th>\n",
       "      <th>Activity</th>\n",
       "      <th>Category</th>\n",
       "    </tr>\n",
       "  </thead>\n",
       "  <tbody>\n",
       "    <tr>\n",
       "      <th>0</th>\n",
       "      <td>0</td>\n",
       "      <td>015601864.jpg</td>\n",
       "      <td>620</td>\n",
       "      <td>394</td>\n",
       "      <td>616</td>\n",
       "      <td>269</td>\n",
       "      <td>573</td>\n",
       "      <td>185</td>\n",
       "      <td>647</td>\n",
       "      <td>188</td>\n",
       "      <td>...</td>\n",
       "      <td>167</td>\n",
       "      <td>692</td>\n",
       "      <td>185</td>\n",
       "      <td>693</td>\n",
       "      <td>240</td>\n",
       "      <td>688</td>\n",
       "      <td>313</td>\n",
       "      <td>3.021046</td>\n",
       "      <td>curling</td>\n",
       "      <td>sports</td>\n",
       "    </tr>\n",
       "    <tr>\n",
       "      <th>1</th>\n",
       "      <td>0</td>\n",
       "      <td>015599452.jpg</td>\n",
       "      <td>-1</td>\n",
       "      <td>-1</td>\n",
       "      <td>-1</td>\n",
       "      <td>-1</td>\n",
       "      <td>806</td>\n",
       "      <td>543</td>\n",
       "      <td>720</td>\n",
       "      <td>593</td>\n",
       "      <td>...</td>\n",
       "      <td>281</td>\n",
       "      <td>719</td>\n",
       "      <td>299</td>\n",
       "      <td>711</td>\n",
       "      <td>516</td>\n",
       "      <td>545</td>\n",
       "      <td>466</td>\n",
       "      <td>5.641276</td>\n",
       "      <td>curling</td>\n",
       "      <td>sports</td>\n",
       "    </tr>\n",
       "    <tr>\n",
       "      <th>2</th>\n",
       "      <td>0</td>\n",
       "      <td>005808361.jpg</td>\n",
       "      <td>804</td>\n",
       "      <td>711</td>\n",
       "      <td>816</td>\n",
       "      <td>510</td>\n",
       "      <td>908</td>\n",
       "      <td>438</td>\n",
       "      <td>1040</td>\n",
       "      <td>454</td>\n",
       "      <td>...</td>\n",
       "      <td>253</td>\n",
       "      <td>1067</td>\n",
       "      <td>253</td>\n",
       "      <td>1167</td>\n",
       "      <td>353</td>\n",
       "      <td>1142</td>\n",
       "      <td>478</td>\n",
       "      <td>4.718488</td>\n",
       "      <td>curling</td>\n",
       "      <td>sports</td>\n",
       "    </tr>\n",
       "    <tr>\n",
       "      <th>3</th>\n",
       "      <td>0</td>\n",
       "      <td>086617615.jpg</td>\n",
       "      <td>301</td>\n",
       "      <td>461</td>\n",
       "      <td>305</td>\n",
       "      <td>375</td>\n",
       "      <td>201</td>\n",
       "      <td>340</td>\n",
       "      <td>294</td>\n",
       "      <td>342</td>\n",
       "      <td>...</td>\n",
       "      <td>261</td>\n",
       "      <td>314</td>\n",
       "      <td>264</td>\n",
       "      <td>327</td>\n",
       "      <td>320</td>\n",
       "      <td>362</td>\n",
       "      <td>346</td>\n",
       "      <td>2.681349</td>\n",
       "      <td>curling</td>\n",
       "      <td>sports</td>\n",
       "    </tr>\n",
       "    <tr>\n",
       "      <th>4</th>\n",
       "      <td>0</td>\n",
       "      <td>060111501.jpg</td>\n",
       "      <td>980</td>\n",
       "      <td>322</td>\n",
       "      <td>896</td>\n",
       "      <td>318</td>\n",
       "      <td>865</td>\n",
       "      <td>248</td>\n",
       "      <td>943</td>\n",
       "      <td>226</td>\n",
       "      <td>...</td>\n",
       "      <td>147</td>\n",
       "      <td>923</td>\n",
       "      <td>123</td>\n",
       "      <td>995</td>\n",
       "      <td>163</td>\n",
       "      <td>961</td>\n",
       "      <td>223</td>\n",
       "      <td>3.806403</td>\n",
       "      <td>curling</td>\n",
       "      <td>sports</td>\n",
       "    </tr>\n",
       "  </tbody>\n",
       "</table>\n",
       "<p>5 rows × 37 columns</p>\n",
       "</div>"
      ],
      "text/plain": [
       "   Unnamed: 0           NAME  r ankle_X  r ankle_Y  r knee_X  r knee_Y  \\\n",
       "0           0  015601864.jpg        620        394       616       269   \n",
       "1           0  015599452.jpg         -1         -1        -1        -1   \n",
       "2           0  005808361.jpg        804        711       816       510   \n",
       "3           0  086617615.jpg        301        461       305       375   \n",
       "4           0  060111501.jpg        980        322       896       318   \n",
       "\n",
       "   r hip_X  r hip_Y  l hip_X  l hip_Y  ...  r shoulder_Y  l shoulder_X  \\\n",
       "0      573      185      647      188  ...           167           692   \n",
       "1      806      543      720      593  ...           281           719   \n",
       "2      908      438     1040      454  ...           253          1067   \n",
       "3      201      340      294      342  ...           261           314   \n",
       "4      865      248      943      226  ...           147           923   \n",
       "\n",
       "   l shoulder_Y  l elbow_X  l elbow_Y  l wrist_X  l wrist_Y     Scale  \\\n",
       "0           185        693        240        688        313  3.021046   \n",
       "1           299        711        516        545        466  5.641276   \n",
       "2           253       1167        353       1142        478  4.718488   \n",
       "3           264        327        320        362        346  2.681349   \n",
       "4           123        995        163        961        223  3.806403   \n",
       "\n",
       "   Activity  Category  \n",
       "0   curling    sports  \n",
       "1   curling    sports  \n",
       "2   curling    sports  \n",
       "3   curling    sports  \n",
       "4   curling    sports  \n",
       "\n",
       "[5 rows x 37 columns]"
      ]
     },
     "execution_count": 57,
     "metadata": {},
     "output_type": "execute_result"
    }
   ],
   "source": [
    "data = pd.read_csv('https://raw.githubusercontent.com/Arifkhan21/MPII-Dataset-in-CSV/master/mpii_dataset.csv')\n",
    "data.head()"
   ]
  },
  {
   "cell_type": "code",
   "execution_count": 58,
   "metadata": {},
   "outputs": [
    {
     "data": {
      "text/html": [
       "<div>\n",
       "<style scoped>\n",
       "    .dataframe tbody tr th:only-of-type {\n",
       "        vertical-align: middle;\n",
       "    }\n",
       "\n",
       "    .dataframe tbody tr th {\n",
       "        vertical-align: top;\n",
       "    }\n",
       "\n",
       "    .dataframe thead th {\n",
       "        text-align: right;\n",
       "    }\n",
       "</style>\n",
       "<table border=\"1\" class=\"dataframe\">\n",
       "  <thead>\n",
       "    <tr style=\"text-align: right;\">\n",
       "      <th></th>\n",
       "      <th>Unnamed: 0</th>\n",
       "      <th>NAME</th>\n",
       "      <th>r ankle_X</th>\n",
       "      <th>r ankle_Y</th>\n",
       "      <th>r knee_X</th>\n",
       "      <th>r knee_Y</th>\n",
       "      <th>r hip_X</th>\n",
       "      <th>r hip_Y</th>\n",
       "      <th>l hip_X</th>\n",
       "      <th>l hip_Y</th>\n",
       "      <th>...</th>\n",
       "      <th>r shoulder_Y</th>\n",
       "      <th>l shoulder_X</th>\n",
       "      <th>l shoulder_Y</th>\n",
       "      <th>l elbow_X</th>\n",
       "      <th>l elbow_Y</th>\n",
       "      <th>l wrist_X</th>\n",
       "      <th>l wrist_Y</th>\n",
       "      <th>Scale</th>\n",
       "      <th>Activity</th>\n",
       "      <th>Category</th>\n",
       "    </tr>\n",
       "  </thead>\n",
       "  <tbody>\n",
       "    <tr>\n",
       "      <th>0</th>\n",
       "      <td>0</td>\n",
       "      <td>015601864.jpg</td>\n",
       "      <td>620</td>\n",
       "      <td>394</td>\n",
       "      <td>616</td>\n",
       "      <td>269</td>\n",
       "      <td>573</td>\n",
       "      <td>185</td>\n",
       "      <td>647</td>\n",
       "      <td>188</td>\n",
       "      <td>...</td>\n",
       "      <td>167</td>\n",
       "      <td>692</td>\n",
       "      <td>185</td>\n",
       "      <td>693</td>\n",
       "      <td>240</td>\n",
       "      <td>688</td>\n",
       "      <td>313</td>\n",
       "      <td>3.021046</td>\n",
       "      <td>curling</td>\n",
       "      <td>sports</td>\n",
       "    </tr>\n",
       "    <tr>\n",
       "      <th>1</th>\n",
       "      <td>0</td>\n",
       "      <td>015599452.jpg</td>\n",
       "      <td>-1</td>\n",
       "      <td>-1</td>\n",
       "      <td>-1</td>\n",
       "      <td>-1</td>\n",
       "      <td>806</td>\n",
       "      <td>543</td>\n",
       "      <td>720</td>\n",
       "      <td>593</td>\n",
       "      <td>...</td>\n",
       "      <td>281</td>\n",
       "      <td>719</td>\n",
       "      <td>299</td>\n",
       "      <td>711</td>\n",
       "      <td>516</td>\n",
       "      <td>545</td>\n",
       "      <td>466</td>\n",
       "      <td>5.641276</td>\n",
       "      <td>curling</td>\n",
       "      <td>sports</td>\n",
       "    </tr>\n",
       "    <tr>\n",
       "      <th>2</th>\n",
       "      <td>0</td>\n",
       "      <td>005808361.jpg</td>\n",
       "      <td>804</td>\n",
       "      <td>711</td>\n",
       "      <td>816</td>\n",
       "      <td>510</td>\n",
       "      <td>908</td>\n",
       "      <td>438</td>\n",
       "      <td>1040</td>\n",
       "      <td>454</td>\n",
       "      <td>...</td>\n",
       "      <td>253</td>\n",
       "      <td>1067</td>\n",
       "      <td>253</td>\n",
       "      <td>1167</td>\n",
       "      <td>353</td>\n",
       "      <td>1142</td>\n",
       "      <td>478</td>\n",
       "      <td>4.718488</td>\n",
       "      <td>curling</td>\n",
       "      <td>sports</td>\n",
       "    </tr>\n",
       "    <tr>\n",
       "      <th>3</th>\n",
       "      <td>0</td>\n",
       "      <td>086617615.jpg</td>\n",
       "      <td>301</td>\n",
       "      <td>461</td>\n",
       "      <td>305</td>\n",
       "      <td>375</td>\n",
       "      <td>201</td>\n",
       "      <td>340</td>\n",
       "      <td>294</td>\n",
       "      <td>342</td>\n",
       "      <td>...</td>\n",
       "      <td>261</td>\n",
       "      <td>314</td>\n",
       "      <td>264</td>\n",
       "      <td>327</td>\n",
       "      <td>320</td>\n",
       "      <td>362</td>\n",
       "      <td>346</td>\n",
       "      <td>2.681349</td>\n",
       "      <td>curling</td>\n",
       "      <td>sports</td>\n",
       "    </tr>\n",
       "    <tr>\n",
       "      <th>4</th>\n",
       "      <td>0</td>\n",
       "      <td>060111501.jpg</td>\n",
       "      <td>980</td>\n",
       "      <td>322</td>\n",
       "      <td>896</td>\n",
       "      <td>318</td>\n",
       "      <td>865</td>\n",
       "      <td>248</td>\n",
       "      <td>943</td>\n",
       "      <td>226</td>\n",
       "      <td>...</td>\n",
       "      <td>147</td>\n",
       "      <td>923</td>\n",
       "      <td>123</td>\n",
       "      <td>995</td>\n",
       "      <td>163</td>\n",
       "      <td>961</td>\n",
       "      <td>223</td>\n",
       "      <td>3.806403</td>\n",
       "      <td>curling</td>\n",
       "      <td>sports</td>\n",
       "    </tr>\n",
       "  </tbody>\n",
       "</table>\n",
       "<p>5 rows × 37 columns</p>\n",
       "</div>"
      ],
      "text/plain": [
       "   Unnamed: 0           NAME  r ankle_X  r ankle_Y  r knee_X  r knee_Y  \\\n",
       "0           0  015601864.jpg        620        394       616       269   \n",
       "1           0  015599452.jpg         -1         -1        -1        -1   \n",
       "2           0  005808361.jpg        804        711       816       510   \n",
       "3           0  086617615.jpg        301        461       305       375   \n",
       "4           0  060111501.jpg        980        322       896       318   \n",
       "\n",
       "   r hip_X  r hip_Y  l hip_X  l hip_Y  ...  r shoulder_Y  l shoulder_X  \\\n",
       "0      573      185      647      188  ...           167           692   \n",
       "1      806      543      720      593  ...           281           719   \n",
       "2      908      438     1040      454  ...           253          1067   \n",
       "3      201      340      294      342  ...           261           314   \n",
       "4      865      248      943      226  ...           147           923   \n",
       "\n",
       "   l shoulder_Y  l elbow_X  l elbow_Y  l wrist_X  l wrist_Y     Scale  \\\n",
       "0           185        693        240        688        313  3.021046   \n",
       "1           299        711        516        545        466  5.641276   \n",
       "2           253       1167        353       1142        478  4.718488   \n",
       "3           264        327        320        362        346  2.681349   \n",
       "4           123        995        163        961        223  3.806403   \n",
       "\n",
       "   Activity  Category  \n",
       "0   curling    sports  \n",
       "1   curling    sports  \n",
       "2   curling    sports  \n",
       "3   curling    sports  \n",
       "4   curling    sports  \n",
       "\n",
       "[5 rows x 37 columns]"
      ]
     },
     "execution_count": 58,
     "metadata": {},
     "output_type": "execute_result"
    }
   ],
   "source": [
    "data[:5]"
   ]
  },
  {
   "cell_type": "code",
   "execution_count": 59,
   "metadata": {},
   "outputs": [
    {
     "data": {
      "text/html": [
       "<div>\n",
       "<style scoped>\n",
       "    .dataframe tbody tr th:only-of-type {\n",
       "        vertical-align: middle;\n",
       "    }\n",
       "\n",
       "    .dataframe tbody tr th {\n",
       "        vertical-align: top;\n",
       "    }\n",
       "\n",
       "    .dataframe thead th {\n",
       "        text-align: right;\n",
       "    }\n",
       "</style>\n",
       "<table border=\"1\" class=\"dataframe\">\n",
       "  <thead>\n",
       "    <tr style=\"text-align: right;\">\n",
       "      <th></th>\n",
       "      <th>Unnamed: 0</th>\n",
       "      <th>NAME</th>\n",
       "      <th>r ankle_X</th>\n",
       "      <th>r ankle_Y</th>\n",
       "      <th>r knee_X</th>\n",
       "      <th>r knee_Y</th>\n",
       "      <th>r hip_X</th>\n",
       "      <th>r hip_Y</th>\n",
       "      <th>l hip_X</th>\n",
       "      <th>l hip_Y</th>\n",
       "      <th>...</th>\n",
       "      <th>r shoulder_Y</th>\n",
       "      <th>l shoulder_X</th>\n",
       "      <th>l shoulder_Y</th>\n",
       "      <th>l elbow_X</th>\n",
       "      <th>l elbow_Y</th>\n",
       "      <th>l wrist_X</th>\n",
       "      <th>l wrist_Y</th>\n",
       "      <th>Scale</th>\n",
       "      <th>Activity</th>\n",
       "      <th>Category</th>\n",
       "    </tr>\n",
       "  </thead>\n",
       "  <tbody>\n",
       "    <tr>\n",
       "      <th>17371</th>\n",
       "      <td>0</td>\n",
       "      <td>084761779.jpg</td>\n",
       "      <td>362</td>\n",
       "      <td>350</td>\n",
       "      <td>347</td>\n",
       "      <td>297</td>\n",
       "      <td>350</td>\n",
       "      <td>224</td>\n",
       "      <td>317</td>\n",
       "      <td>226</td>\n",
       "      <td>...</td>\n",
       "      <td>168</td>\n",
       "      <td>288</td>\n",
       "      <td>177</td>\n",
       "      <td>279</td>\n",
       "      <td>199</td>\n",
       "      <td>268</td>\n",
       "      <td>194</td>\n",
       "      <td>1.189877</td>\n",
       "      <td>pushing car</td>\n",
       "      <td>transportation</td>\n",
       "    </tr>\n",
       "  </tbody>\n",
       "</table>\n",
       "<p>1 rows × 37 columns</p>\n",
       "</div>"
      ],
      "text/plain": [
       "       Unnamed: 0           NAME  r ankle_X  r ankle_Y  r knee_X  r knee_Y  \\\n",
       "17371           0  084761779.jpg        362        350       347       297   \n",
       "\n",
       "       r hip_X  r hip_Y  l hip_X  l hip_Y  ...  r shoulder_Y  l shoulder_X  \\\n",
       "17371      350      224      317      226  ...           168           288   \n",
       "\n",
       "       l shoulder_Y  l elbow_X  l elbow_Y  l wrist_X  l wrist_Y     Scale  \\\n",
       "17371           177        279        199        268        194  1.189877   \n",
       "\n",
       "          Activity        Category  \n",
       "17371  pushing car  transportation  \n",
       "\n",
       "[1 rows x 37 columns]"
      ]
     },
     "execution_count": 59,
     "metadata": {},
     "output_type": "execute_result"
    }
   ],
   "source": [
    "data.tail(1)"
   ]
  },
  {
   "cell_type": "code",
   "execution_count": 60,
   "metadata": {},
   "outputs": [
    {
     "data": {
      "text/plain": [
       "Index(['Unnamed: 0', 'NAME', 'r ankle_X', 'r ankle_Y', 'r knee_X', 'r knee_Y',\n",
       "       'r hip_X', 'r hip_Y', 'l hip_X', 'l hip_Y', 'l knee_X', 'l knee_Y',\n",
       "       'l ankle_X', 'l ankle_Y', 'pelvis_X', 'pelvis_Y', 'thorax_X',\n",
       "       'thorax_Y', 'upper neck_X', 'upper neck_Y', 'head top_X', 'head top_Y',\n",
       "       'r wrist_X', 'r wrist_Y', 'r elbow_X', 'r elbow_Y', 'r shoulder_X',\n",
       "       'r shoulder_Y', 'l shoulder_X', 'l shoulder_Y', 'l elbow_X',\n",
       "       'l elbow_Y', 'l wrist_X', 'l wrist_Y', 'Scale', 'Activity', 'Category'],\n",
       "      dtype='object')"
      ]
     },
     "execution_count": 60,
     "metadata": {},
     "output_type": "execute_result"
    }
   ],
   "source": [
    "data.columns"
   ]
  },
  {
   "cell_type": "code",
   "execution_count": 61,
   "metadata": {},
   "outputs": [
    {
     "data": {
      "text/plain": [
       "(17372, 37)"
      ]
     },
     "execution_count": 61,
     "metadata": {},
     "output_type": "execute_result"
    }
   ],
   "source": [
    "data.shape"
   ]
  },
  {
   "cell_type": "code",
   "execution_count": 62,
   "metadata": {},
   "outputs": [
    {
     "data": {
      "text/plain": [
       "Unnamed: 0        int64\n",
       "NAME             object\n",
       "r ankle_X         int64\n",
       "r ankle_Y         int64\n",
       "r knee_X          int64\n",
       "r knee_Y          int64\n",
       "r hip_X           int64\n",
       "r hip_Y           int64\n",
       "l hip_X           int64\n",
       "l hip_Y           int64\n",
       "l knee_X          int64\n",
       "l knee_Y          int64\n",
       "l ankle_X         int64\n",
       "l ankle_Y         int64\n",
       "pelvis_X          int64\n",
       "pelvis_Y          int64\n",
       "thorax_X          int64\n",
       "thorax_Y          int64\n",
       "upper neck_X    float64\n",
       "upper neck_Y    float64\n",
       "head top_X      float64\n",
       "head top_Y      float64\n",
       "r wrist_X         int64\n",
       "r wrist_Y         int64\n",
       "r elbow_X         int64\n",
       "r elbow_Y         int64\n",
       "r shoulder_X      int64\n",
       "r shoulder_Y      int64\n",
       "l shoulder_X      int64\n",
       "l shoulder_Y      int64\n",
       "l elbow_X         int64\n",
       "l elbow_Y         int64\n",
       "l wrist_X         int64\n",
       "l wrist_Y         int64\n",
       "Scale           float64\n",
       "Activity         object\n",
       "Category         object\n",
       "dtype: object"
      ]
     },
     "execution_count": 62,
     "metadata": {},
     "output_type": "execute_result"
    }
   ],
   "source": [
    "data.dtypes"
   ]
  },
  {
   "cell_type": "code",
   "execution_count": 63,
   "metadata": {},
   "outputs": [
    {
     "data": {
      "text/plain": [
       "array(['sports', 'inactivity quiet/light', 'miscellaneous', 'occupation',\n",
       "       'water activities', 'home activities', 'lawn and garden',\n",
       "       'religious activities', 'winter activities',\n",
       "       'conditioning exercise', 'bicycling', 'fishing and hunting',\n",
       "       'dancing', 'walking', 'running', 'self care', 'home repair',\n",
       "       'music playing', 'transportation', 'volunteer activities', '[]'],\n",
       "      dtype=object)"
      ]
     },
     "execution_count": 63,
     "metadata": {},
     "output_type": "execute_result"
    }
   ],
   "source": [
    "data.Category.unique()"
   ]
  },
  {
   "cell_type": "code",
   "execution_count": 68,
   "metadata": {},
   "outputs": [
    {
     "data": {
      "text/plain": [
       "sports        3450\n",
       "occupation    2329\n",
       "Name: Category, dtype: int64"
      ]
     },
     "execution_count": 68,
     "metadata": {},
     "output_type": "execute_result"
    }
   ],
   "source": [
    "data.Category.value_counts()[:2]"
   ]
  },
  {
   "cell_type": "code",
   "execution_count": 69,
   "metadata": {},
   "outputs": [],
   "source": [
    "import pandas as pd"
   ]
  },
  {
   "cell_type": "code",
   "execution_count": 73,
   "metadata": {},
   "outputs": [
    {
     "data": {
      "text/html": [
       "<div>\n",
       "<style scoped>\n",
       "    .dataframe tbody tr th:only-of-type {\n",
       "        vertical-align: middle;\n",
       "    }\n",
       "\n",
       "    .dataframe tbody tr th {\n",
       "        vertical-align: top;\n",
       "    }\n",
       "\n",
       "    .dataframe thead th {\n",
       "        text-align: right;\n",
       "    }\n",
       "</style>\n",
       "<table border=\"1\" class=\"dataframe\">\n",
       "  <thead>\n",
       "    <tr style=\"text-align: right;\">\n",
       "      <th></th>\n",
       "      <th>region</th>\n",
       "      <th>area</th>\n",
       "      <th>price</th>\n",
       "    </tr>\n",
       "  </thead>\n",
       "  <tbody>\n",
       "    <tr>\n",
       "      <th>0</th>\n",
       "      <td>katraj</td>\n",
       "      <td>NaN</td>\n",
       "      <td>550000.0</td>\n",
       "    </tr>\n",
       "    <tr>\n",
       "      <th>1</th>\n",
       "      <td>katraj</td>\n",
       "      <td>3000.0</td>\n",
       "      <td>NaN</td>\n",
       "    </tr>\n",
       "    <tr>\n",
       "      <th>2</th>\n",
       "      <td>katraj</td>\n",
       "      <td>NaN</td>\n",
       "      <td>610000.0</td>\n",
       "    </tr>\n",
       "  </tbody>\n",
       "</table>\n",
       "</div>"
      ],
      "text/plain": [
       "   region    area     price\n",
       "0  katraj     NaN  550000.0\n",
       "1  katraj  3000.0       NaN\n",
       "2  katraj     NaN  610000.0"
      ]
     },
     "execution_count": 73,
     "metadata": {},
     "output_type": "execute_result"
    }
   ],
   "source": [
    "data = pd.read_csv('home.csv')\n",
    "data.head(3)"
   ]
  },
  {
   "cell_type": "code",
   "execution_count": 75,
   "metadata": {},
   "outputs": [
    {
     "data": {
      "text/plain": [
       "3288.8888888888887"
      ]
     },
     "execution_count": 75,
     "metadata": {},
     "output_type": "execute_result"
    }
   ],
   "source": [
    "data.area.mean()"
   ]
  },
  {
   "cell_type": "code",
   "execution_count": 80,
   "metadata": {},
   "outputs": [
    {
     "data": {
      "text/plain": [
       "0     3289\n",
       "1     3000\n",
       "2     3289\n",
       "3     3600\n",
       "4     4000\n",
       "5     3289\n",
       "6     2800\n",
       "7     3300\n",
       "8     3600\n",
       "9     2600\n",
       "10    3289\n",
       "11    3100\n",
       "12    3600\n",
       "13    3289\n",
       "Name: area, dtype: int64"
      ]
     },
     "execution_count": 80,
     "metadata": {},
     "output_type": "execute_result"
    }
   ],
   "source": [
    "data.area.fillna(round(data.area.mean())).astype('int')"
   ]
  },
  {
   "cell_type": "code",
   "execution_count": 82,
   "metadata": {},
   "outputs": [],
   "source": [
    "data['count'] = range(14)"
   ]
  },
  {
   "cell_type": "code",
   "execution_count": 83,
   "metadata": {},
   "outputs": [
    {
     "data": {
      "text/html": [
       "<div>\n",
       "<style scoped>\n",
       "    .dataframe tbody tr th:only-of-type {\n",
       "        vertical-align: middle;\n",
       "    }\n",
       "\n",
       "    .dataframe tbody tr th {\n",
       "        vertical-align: top;\n",
       "    }\n",
       "\n",
       "    .dataframe thead th {\n",
       "        text-align: right;\n",
       "    }\n",
       "</style>\n",
       "<table border=\"1\" class=\"dataframe\">\n",
       "  <thead>\n",
       "    <tr style=\"text-align: right;\">\n",
       "      <th></th>\n",
       "      <th>region</th>\n",
       "      <th>area</th>\n",
       "      <th>price</th>\n",
       "      <th>count</th>\n",
       "    </tr>\n",
       "  </thead>\n",
       "  <tbody>\n",
       "    <tr>\n",
       "      <th>0</th>\n",
       "      <td>katraj</td>\n",
       "      <td>NaN</td>\n",
       "      <td>550000.0</td>\n",
       "      <td>0</td>\n",
       "    </tr>\n",
       "    <tr>\n",
       "      <th>1</th>\n",
       "      <td>katraj</td>\n",
       "      <td>3000.0</td>\n",
       "      <td>NaN</td>\n",
       "      <td>1</td>\n",
       "    </tr>\n",
       "    <tr>\n",
       "      <th>2</th>\n",
       "      <td>katraj</td>\n",
       "      <td>NaN</td>\n",
       "      <td>610000.0</td>\n",
       "      <td>2</td>\n",
       "    </tr>\n",
       "    <tr>\n",
       "      <th>3</th>\n",
       "      <td>katraj</td>\n",
       "      <td>3600.0</td>\n",
       "      <td>680000.0</td>\n",
       "      <td>3</td>\n",
       "    </tr>\n",
       "    <tr>\n",
       "      <th>4</th>\n",
       "      <td>katraj</td>\n",
       "      <td>4000.0</td>\n",
       "      <td>725000.0</td>\n",
       "      <td>4</td>\n",
       "    </tr>\n",
       "    <tr>\n",
       "      <th>5</th>\n",
       "      <td>swargate</td>\n",
       "      <td>NaN</td>\n",
       "      <td>585000.0</td>\n",
       "      <td>5</td>\n",
       "    </tr>\n",
       "    <tr>\n",
       "      <th>6</th>\n",
       "      <td>swargate</td>\n",
       "      <td>2800.0</td>\n",
       "      <td>615000.0</td>\n",
       "      <td>6</td>\n",
       "    </tr>\n",
       "    <tr>\n",
       "      <th>7</th>\n",
       "      <td>swargate</td>\n",
       "      <td>3300.0</td>\n",
       "      <td>650000.0</td>\n",
       "      <td>7</td>\n",
       "    </tr>\n",
       "    <tr>\n",
       "      <th>8</th>\n",
       "      <td>swargate</td>\n",
       "      <td>3600.0</td>\n",
       "      <td>710000.0</td>\n",
       "      <td>8</td>\n",
       "    </tr>\n",
       "    <tr>\n",
       "      <th>9</th>\n",
       "      <td>swargate</td>\n",
       "      <td>2600.0</td>\n",
       "      <td>575000.0</td>\n",
       "      <td>9</td>\n",
       "    </tr>\n",
       "    <tr>\n",
       "      <th>10</th>\n",
       "      <td>Camp</td>\n",
       "      <td>NaN</td>\n",
       "      <td>690000.0</td>\n",
       "      <td>10</td>\n",
       "    </tr>\n",
       "    <tr>\n",
       "      <th>11</th>\n",
       "      <td>Camp</td>\n",
       "      <td>3100.0</td>\n",
       "      <td>NaN</td>\n",
       "      <td>11</td>\n",
       "    </tr>\n",
       "    <tr>\n",
       "      <th>12</th>\n",
       "      <td>Camp</td>\n",
       "      <td>3600.0</td>\n",
       "      <td>825000.0</td>\n",
       "      <td>12</td>\n",
       "    </tr>\n",
       "    <tr>\n",
       "      <th>13</th>\n",
       "      <td>Camp</td>\n",
       "      <td>NaN</td>\n",
       "      <td>800000.0</td>\n",
       "      <td>13</td>\n",
       "    </tr>\n",
       "  </tbody>\n",
       "</table>\n",
       "</div>"
      ],
      "text/plain": [
       "      region    area     price  count\n",
       "0     katraj     NaN  550000.0      0\n",
       "1     katraj  3000.0       NaN      1\n",
       "2     katraj     NaN  610000.0      2\n",
       "3     katraj  3600.0  680000.0      3\n",
       "4     katraj  4000.0  725000.0      4\n",
       "5   swargate     NaN  585000.0      5\n",
       "6   swargate  2800.0  615000.0      6\n",
       "7   swargate  3300.0  650000.0      7\n",
       "8   swargate  3600.0  710000.0      8\n",
       "9   swargate  2600.0  575000.0      9\n",
       "10      Camp     NaN  690000.0     10\n",
       "11      Camp  3100.0       NaN     11\n",
       "12      Camp  3600.0  825000.0     12\n",
       "13      Camp     NaN  800000.0     13"
      ]
     },
     "execution_count": 83,
     "metadata": {},
     "output_type": "execute_result"
    }
   ],
   "source": [
    "data"
   ]
  },
  {
   "cell_type": "code",
   "execution_count": null,
   "metadata": {},
   "outputs": [],
   "source": []
  }
 ],
 "metadata": {
  "kernelspec": {
   "display_name": "Python [conda env:base] *",
   "language": "python",
   "name": "conda-base-py"
  },
  "language_info": {
   "codemirror_mode": {
    "name": "ipython",
    "version": 3
   },
   "file_extension": ".py",
   "mimetype": "text/x-python",
   "name": "python",
   "nbconvert_exporter": "python",
   "pygments_lexer": "ipython3",
   "version": "3.12.7"
  }
 },
 "nbformat": 4,
 "nbformat_minor": 4
}
